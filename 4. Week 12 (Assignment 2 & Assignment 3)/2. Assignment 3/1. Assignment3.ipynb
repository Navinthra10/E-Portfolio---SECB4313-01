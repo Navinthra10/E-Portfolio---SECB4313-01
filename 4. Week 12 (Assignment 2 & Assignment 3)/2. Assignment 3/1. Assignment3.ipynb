{
  "nbformat": 4,
  "nbformat_minor": 0,
  "metadata": {
    "colab": {
      "provenance": []
    },
    "kernelspec": {
      "name": "python3",
      "display_name": "Python 3"
    },
    "language_info": {
      "name": "python"
    }
  },
  "cells": [
    {
      "cell_type": "code",
      "execution_count": 1,
      "metadata": {
        "colab": {
          "base_uri": "https://localhost:8080/"
        },
        "id": "PedB_k-rt8vO",
        "outputId": "668f792c-204e-4383-a1eb-a62042a03218"
      },
      "outputs": [
        {
          "output_type": "stream",
          "name": "stdout",
          "text": [
            "Drive already mounted at /content/gdrive; to attempt to forcibly remount, call drive.mount(\"/content/gdrive\", force_remount=True).\n",
            "['[1_April_2024]_Heart_Disease_NN.ipynb', 'heart.csv', 'Assignment2.ipynb', 'Assignment3.ipynb']\n"
          ]
        }
      ],
      "source": [
        "import os\n",
        "import pandas as pd\n",
        "### 1. Link notebook with google drive and access data from your personal Gdrive\n",
        "from google.colab import drive\n",
        "drive.mount(\"/content/gdrive\")\n",
        "\n",
        "### 2.Set the data path for dataset and model location (ex: model_loc = \"/content/gdrive/My Drive/Dataset/\")\n",
        "dataset_dir = \"/content/gdrive/My Drive/Colab Notebooks/\"\n",
        "model_loc = \"/content/gdrive/My Drive/Colab Notebooks/\"\n",
        "\n",
        "print(os.listdir(dataset_dir))\n",
        "data = pd.read_csv(dataset_dir+'heart.csv')"
      ]
    },
    {
      "cell_type": "code",
      "source": [
        "# Import libraries\n",
        "from sklearn.model_selection import train_test_split\n",
        "from sklearn.ensemble import RandomForestClassifier\n",
        "from sklearn.metrics import accuracy_score\n",
        "from sklearn.model_selection import GridSearchCV, RandomizedSearchCV\n",
        "import time\n",
        "\n",
        "# Preprocess dataset (Assuming the target column is named 'target')\n",
        "X = data.drop(columns=['target'])\n",
        "y = data['target']"
      ],
      "metadata": {
        "id": "WHHtjq0k0MT9"
      },
      "execution_count": 2,
      "outputs": []
    },
    {
      "cell_type": "code",
      "source": [
        "# Split the data into training and testing sets\n",
        "X_train, X_test, y_train, y_test = train_test_split(X, y, test_size=0.2, random_state=42)"
      ],
      "metadata": {
        "id": "cKl-CmId0XiD"
      },
      "execution_count": 3,
      "outputs": []
    },
    {
      "cell_type": "code",
      "source": [
        "# Define the parameter grid based on the proposed hyperparameters\n",
        "param_grid = {\n",
        "    'n_estimators': [100, 200],\n",
        "    'max_depth': [10, 20],\n",
        "    'min_samples_split': [2, 10],\n",
        "    'min_samples_leaf': [1, 4]\n",
        "}\n",
        "\n",
        "# Initialize the RandomForestClassifier\n",
        "rf = RandomForestClassifier(random_state=42)"
      ],
      "metadata": {
        "id": "WpareJWj0a5x"
      },
      "execution_count": 4,
      "outputs": []
    },
    {
      "cell_type": "code",
      "source": [
        "# Perform GridSearchCV\n",
        "start_time_grid = time.time()\n",
        "grid_search = GridSearchCV(estimator=rf, param_grid=param_grid, cv=5, scoring='accuracy')\n",
        "grid_search.fit(X_train, y_train)\n",
        "end_time_grid = time.time()\n",
        "\n",
        "# Get the best parameters and best score from Grid Search\n",
        "best_params_grid = grid_search.best_params_\n",
        "best_score_grid = grid_search.best_score_\n",
        "\n",
        "# Test the best model from Grid Search on the test set\n",
        "best_model_grid = grid_search.best_estimator_\n",
        "y_pred_grid = best_model_grid.predict(X_test)\n",
        "test_accuracy_grid = accuracy_score(y_test, y_pred_grid)\n",
        "\n",
        "# Print Grid Search results\n",
        "print(\"Grid Search Best Parameters:\", best_params_grid)\n",
        "print(\"Grid Search Best Cross-Validation Accuracy:\", best_score_grid)\n",
        "print(\"Grid Search Test Accuracy:\", test_accuracy_grid)\n",
        "print(\"Grid Search Computational Time: {:.2f} seconds\".format(end_time_grid - start_time_grid))"
      ],
      "metadata": {
        "colab": {
          "base_uri": "https://localhost:8080/"
        },
        "id": "U26GeIbC0dNG",
        "outputId": "fa0af218-f6ba-4893-a178-77b1df146c33"
      },
      "execution_count": 5,
      "outputs": [
        {
          "output_type": "stream",
          "name": "stdout",
          "text": [
            "Grid Search Best Parameters: {'max_depth': 10, 'min_samples_leaf': 4, 'min_samples_split': 2, 'n_estimators': 200}\n",
            "Grid Search Best Cross-Validation Accuracy: 0.8139455782312925\n",
            "Grid Search Test Accuracy: 0.8524590163934426\n",
            "Grid Search Computational Time: 34.95 seconds\n"
          ]
        }
      ]
    },
    {
      "cell_type": "code",
      "source": [
        "# Perform RandomizedSearchCV\n",
        "start_time_random = time.time()\n",
        "random_search = RandomizedSearchCV(estimator=rf, param_distributions=param_grid, n_iter=10, cv=5, scoring='accuracy', random_state=42)\n",
        "random_search.fit(X_train, y_train)\n",
        "end_time_random = time.time()\n",
        "\n",
        "# Get the best parameters and best score from Random Search\n",
        "best_params_random = random_search.best_params_\n",
        "best_score_random = random_search.best_score_\n",
        "\n",
        "# Test the best model from Random Search on the test set\n",
        "best_model_random = random_search.best_estimator_\n",
        "y_pred_random = best_model_random.predict(X_test)\n",
        "test_accuracy_random = accuracy_score(y_test, y_pred_random)\n",
        "\n",
        "# Print Random Search results\n",
        "print(\"Random Search Best Parameters:\", best_params_random)\n",
        "print(\"Random Search Best Cross-Validation Accuracy:\", best_score_random)\n",
        "print(\"Random Search Test Accuracy:\", test_accuracy_random)\n",
        "print(\"Random Search Computational Time: {:.2f} seconds\".format(end_time_random - start_time_random))"
      ],
      "metadata": {
        "colab": {
          "base_uri": "https://localhost:8080/"
        },
        "id": "B7tRMNUg0r1O",
        "outputId": "4dcb1d24-0807-4b18-b1bc-305b631d4eed"
      },
      "execution_count": 6,
      "outputs": [
        {
          "output_type": "stream",
          "name": "stdout",
          "text": [
            "Random Search Best Parameters: {'n_estimators': 200, 'min_samples_split': 2, 'min_samples_leaf': 4, 'max_depth': 10}\n",
            "Random Search Best Cross-Validation Accuracy: 0.8139455782312925\n",
            "Random Search Test Accuracy: 0.8524590163934426\n",
            "Random Search Computational Time: 14.83 seconds\n"
          ]
        }
      ]
    },
    {
      "cell_type": "code",
      "source": [
        "# Compare results\n",
        "print(\"\\nComparison:\")\n",
        "print(f\"Grid Search - Best Params: {best_params_grid}, CV Accuracy: {best_score_grid}, Test Accuracy: {test_accuracy_grid}\")\n",
        "print(f\"Random Search - Best Params: {best_params_random}, CV Accuracy: {best_score_random}, Test Accuracy: {test_accuracy_random}\")\n",
        "print(\"Grid Search Computational Time: {:.2f} seconds\".format(end_time_grid - start_time_grid))\n",
        "print(\"Random Search Computational Time: {:.2f} seconds\".format(end_time_random - start_time_random))"
      ],
      "metadata": {
        "colab": {
          "base_uri": "https://localhost:8080/"
        },
        "id": "lTrfvMtJ0vRI",
        "outputId": "5428f6b5-6e48-4eda-d14d-c9ab7040ab2a"
      },
      "execution_count": 7,
      "outputs": [
        {
          "output_type": "stream",
          "name": "stdout",
          "text": [
            "\n",
            "Comparison:\n",
            "Grid Search - Best Params: {'max_depth': 10, 'min_samples_leaf': 4, 'min_samples_split': 2, 'n_estimators': 200}, CV Accuracy: 0.8139455782312925, Test Accuracy: 0.8524590163934426\n",
            "Random Search - Best Params: {'n_estimators': 200, 'min_samples_split': 2, 'min_samples_leaf': 4, 'max_depth': 10}, CV Accuracy: 0.8139455782312925, Test Accuracy: 0.8524590163934426\n",
            "Grid Search Computational Time: 34.95 seconds\n",
            "Random Search Computational Time: 14.83 seconds\n"
          ]
        }
      ]
    }
  ]
}